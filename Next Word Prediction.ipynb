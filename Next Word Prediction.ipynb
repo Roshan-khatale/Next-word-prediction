{
 "cells": [
  {
   "cell_type": "code",
   "execution_count": 1,
   "metadata": {},
   "outputs": [],
   "source": [
    "from tensorflow.keras.models import load_model\n",
    "import pickle\n",
    "import numpy as np\n",
    "from tensorflow.keras.preprocessing.sequence import pad_sequences"
   ]
  },
  {
   "cell_type": "code",
   "execution_count": 2,
   "metadata": {},
   "outputs": [],
   "source": [
    "model=load_model('Next_word_pred_Median_data.h5')\n",
    "tokenizer=pickle.load(open('token.pkl','rb'))"
   ]
  },
  {
   "cell_type": "code",
   "execution_count": 3,
   "metadata": {},
   "outputs": [],
   "source": [
    "def Find_next_Word(text,model,tokenizer):\n",
    "    token_list=tokenizer.texts_to_sequences([text])[0]\n",
    "    token_list=pad_sequences([token_list], maxlen = 39,padding='pre')\n",
    "    prediction=model.predict(token_list,verbose=1)\n",
    "    prediction=np.argmax(prediction,axis=1)\n",
    "    output_word = \"\"\n",
    "    for word, index in tokenizer.word_index.items():\n",
    "        if index == prediction:\n",
    "            output_word = word\n",
    "    return output_word"
   ]
  },
  {
   "cell_type": "code",
   "execution_count": 9,
   "metadata": {},
   "outputs": [
    {
     "name": "stdout",
     "output_type": "stream",
     "text": [
      "what is  a life from a and based neural just to\n"
     ]
    }
   ],
   "source": [
    "seed_text = input(\"Enter Your text\")\n",
    "for i in range(int(input(\"How many words do you want to predict:\"))):\n",
    "    seq = tokenizer.texts_to_sequences([seed_text])[0]\n",
    "    seq = pad_sequences([seq], maxlen=40-1, padding='pre')\n",
    "    pred_prob = model.predict(seq,verbose=0)[0]\n",
    "    pred_idx = np.argmax(pred_prob)\n",
    "    pred_word = tokenizer.index_word[pred_idx]\n",
    "    #print({pred_word})\n",
    "    seed_text += f' {pred_word}'\n",
    "print(seed_text)"
   ]
  },
  {
   "cell_type": "code",
   "execution_count": null,
   "metadata": {},
   "outputs": [],
   "source": []
  }
 ],
 "metadata": {
  "kernelspec": {
   "display_name": "dsml_19",
   "language": "python",
   "name": "python3"
  },
  "language_info": {
   "codemirror_mode": {
    "name": "ipython",
    "version": 3
   },
   "file_extension": ".py",
   "mimetype": "text/x-python",
   "name": "python",
   "nbconvert_exporter": "python",
   "pygments_lexer": "ipython3",
   "version": "3.10.8"
  },
  "orig_nbformat": 4,
  "vscode": {
   "interpreter": {
    "hash": "af9a02647f51241f39a091df6a9a09cf9615d3a7f8699b5b574ff55341ef6cf4"
   }
  }
 },
 "nbformat": 4,
 "nbformat_minor": 2
}
